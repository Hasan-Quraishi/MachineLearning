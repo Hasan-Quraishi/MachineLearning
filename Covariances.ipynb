{
  "nbformat": 4,
  "nbformat_minor": 0,
  "metadata": {
    "colab": {
      "provenance": []
    },
    "kernelspec": {
      "name": "python3",
      "display_name": "Python 3"
    },
    "language_info": {
      "name": "python"
    }
  },
  "cells": [
    {
      "cell_type": "markdown",
      "source": [
        "# 4 Covariances\n",
        "\n",
        "Question 4 [Portfolio Risk, 5+5=10 Marks] Assume we have four financial assets and their\n",
        "values (per dollar) in 20 years from today are the random variables X1, X2, X3, and X4. Assume further that their mean values and standard deviations are 100, 100, 50, 50 and 20, 22, 5, 5,\n",
        "respectively. Finally, assume that the correlation matrix between the variables is"
      ],
      "metadata": {
        "id": "BziJ3JDQGkPE"
      }
    },
    {
      "cell_type": "markdown",
      "source": [
        "\\begin{equation}\n",
        "R =\n",
        "\\begin{bmatrix}\n",
        "1.0 & 0.9 & 0.0 & 0.0 \\\\\n",
        "0.9 & 1.0 & -0.9 & -0.9 \\\\\n",
        "0.0 & -0.9 & 1.0 & 0.5 \\\\\n",
        "0.0 & -0.9 & 0.5 & 1.0 \\\\\n",
        "\\end{bmatrix}\n",
        "\\end{equation}\n",
        "\n",
        "\n",
        "\n",
        "\n",
        "\n",
        "\n"
      ],
      "metadata": {
        "id": "pyBfCs5XGlzy"
      }
    },
    {
      "cell_type": "markdown",
      "source": [
        "where the entry Ri,j corrsponds to ρ(Xi\n",
        ", Xj ) = Cov(Xi\n",
        ", Xj )/(Std(Xi)Std(Xj )). Now we consider\n",
        "the following four investment portfolios, each investing 100 dollars today:\n",
        "\n",
        "1. Investing 50 into asset 1, 0 into asset 2, 25 into asset 3, and 25 into assset 4\n",
        "2. 0, 50, 50, 0\n",
        "3. 0, 50, 25, 25\n",
        "4. 25, 25, 25, 25\n",
        "\n",
        "\n",
        "I Compute the expected values and standard deviations of each portfolio after 20 years using\n",
        "Python (with only imports from numpy) and give a recommendation in a markdown cell on\n",
        "what portfolio a conservative investor should choose."
      ],
      "metadata": {
        "id": "1WIkUNz4Iple"
      }
    },
    {
      "cell_type": "code",
      "source": [
        "#Initialize all variables given. We set weights of each as given/100 to get the ratio of weights\n",
        "import numpy as np\n",
        "mean_values = np.array([100, 100, 50, 50])\n",
        "std_dev_values = np.array([20, 22, 5, 5])\n",
        "correlation_matrix = np.array([[1.0, 0.9, 0.0, 0.0],\n",
        "                               [0.9, 1.0, -0.9, -0.9],\n",
        "                               [0.0, -0.9, 1.0, 0.5],\n",
        "                               [0.0, -0.9, 0.5, 1.0]])\n",
        "\n",
        "portfolios  = np.array([[0.5, 0.0, 0.25, 0.25],\n",
        "                     [0.0, 0.5, 0.5, 0.0],\n",
        "                     [0.0, 0.5, 0.25, 0.25],\n",
        "                     [0.25, 0.25, 0.25, 0.25]])"
      ],
      "metadata": {
        "id": "BPxjKdZPJKul"
      },
      "execution_count": 12,
      "outputs": []
    },
    {
      "cell_type": "code",
      "execution_count": 14,
      "metadata": {
        "id": "9dwG5rLZuq4b"
      },
      "outputs": [],
      "source": [
        "# Expected value of each can ve calculated by the dot produc of mean values and weights provided\n",
        "expected_values = []\n",
        "std_dev = []\n",
        "for portfolio in portfolios:\n",
        "    # Expected value can be calculated by multiplying  weight defined as portfolios\n",
        "    # and expected value which is the mean\n",
        "    expected = np.dot(portfolio, mean_values)\n",
        "    expected_values.append(expected)\n",
        "    # Standard Deviation is calculated by doing a dot product between the covariance\n",
        "    # and weight\n",
        "    # Compute the covariance matrix by doing outer product of standard deviation\n",
        "    # and multiplying with the correlation matrix provided\n",
        "    covariance_matrix = np.outer(std_dev_values, std_dev_values) * correlation_matrix\n",
        "\n",
        "    Variance = np.dot(portfolio, np.dot(covariance_matrix, portfolio))\n",
        "    std_dev.append(np.sqrt(Variance))\n"
      ]
    },
    {
      "cell_type": "code",
      "source": [
        "print(\"Expected Values: \", expected_values)\n",
        "print(\"Standard Deviation: \", std_dev)"
      ],
      "metadata": {
        "colab": {
          "base_uri": "https://localhost:8080/",
          "height": 0
        },
        "id": "vSNJIixGKD0-",
        "outputId": "4a6e45de-3f11-43be-87ca-23175e173ad3"
      },
      "execution_count": 15,
      "outputs": [
        {
          "output_type": "stream",
          "name": "stdout",
          "text": [
            "Expected Values:  [75.0, 75.0, 75.0, 75.0]\n",
            "Standard Deviation:  [10.231690964840562, 8.817596044274199, 8.728545125048045, 9.202581159652981]\n"
          ]
        }
      ]
    },
    {
      "cell_type": "markdown",
      "source": [
        "For a conservative investor the portfolio to choose will be the third portfolio as the standard deviation is the lowest for this. It has the lowest risk to be in. Also since the expected is similar. The investor should look at variability using the standard deviation"
      ],
      "metadata": {
        "id": "Ap6aelm9Nldk"
      }
    },
    {
      "cell_type": "markdown",
      "source": [
        "II Explain the mathematical background of your computations in another markdown cell, i.e.,\n",
        "explain what rules of probability you applied and how (make sure to mention arguments for\n",
        "both the expected value as well as the standard deviations of the portfolios)."
      ],
      "metadata": {
        "id": "Laum7aHTPOXK"
      }
    },
    {
      "cell_type": "markdown",
      "source": [
        "Expected Value of the portfolios used can be defined as the weighted average of the expected values of all assets\n",
        "\n",
        "\\begin{equation}\n",
        "E(R_p) = \\sum_{i=1}^{n} w_i E(R_i)\n",
        "\\end{equation}\n",
        "\n"
      ],
      "metadata": {
        "id": "GZXOS-5jPPrn"
      }
    },
    {
      "cell_type": "markdown",
      "source": [
        "where wi is the weight of each assets and Ri is the mean vaue for each portfolio"
      ],
      "metadata": {
        "id": "8ndjjmONQMpW"
      }
    },
    {
      "cell_type": "markdown",
      "source": [
        "Standard Deviation"
      ],
      "metadata": {
        "id": "lbvJEndZQ8-W"
      }
    },
    {
      "cell_type": "markdown",
      "source": [
        "Variance is a statistical measure to measure sread here for the portfolios it can be calculated as:\n",
        "\n",
        "Here sigma i is the standard deviation of assets while ρ indicates correlation coefficient\n",
        "\n",
        "\n",
        "\\begin{equation}\n",
        "\\sigma^2_p = \\sum_{i=1}^{n} \\sum_{j=1}^{n} w_i \\cdot w_j \\cdot \\sigma_i \\cdot \\sigma_j \\cdot \\rho_{ij}\n",
        "\\end{equation}"
      ],
      "metadata": {
        "id": "aMGRLPZtSAMa"
      }
    },
    {
      "cell_type": "markdown",
      "source": [
        "Standard Deviation of the Portfolio is the square root of the variance\n",
        "\\begin{equation}\n",
        "\\sigma_p = \\sqrt{\\sigma^2_p}\n",
        "\\end{equation}\n",
        "\n",
        "\n",
        "\n",
        "\n",
        "\n",
        "\n",
        "\n"
      ],
      "metadata": {
        "id": "G3WaENvxSTal"
      }
    },
    {
      "cell_type": "markdown",
      "source": [
        "Here we calculate co Variance using the correlation matrix and standard deviation values provided for each portfolios.\n",
        "\n",
        "Using this covariance we calculate the variance of the portfolios using dot products with weights of the portfolio.\n",
        "\n",
        "We calculate the standard deviation, which is a measure of how much the data are dispersed in comarison to mean based on the square root of variation."
      ],
      "metadata": {
        "id": "E7NcVxXwTE0o"
      }
    },
    {
      "cell_type": "code",
      "source": [],
      "metadata": {
        "id": "6Qg0hQUjTvWX"
      },
      "execution_count": null,
      "outputs": []
    }
  ]
}