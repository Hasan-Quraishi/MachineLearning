{
  "nbformat": 4,
  "nbformat_minor": 0,
  "metadata": {
    "colab": {
      "provenance": [],
      "collapsed_sections": [
        "-Jg5CpTQymUe",
        "7MqCZW0i4eHI"
      ]
    },
    "kernelspec": {
      "name": "python3",
      "display_name": "Python 3"
    },
    "language_info": {
      "name": "python"
    }
  },
  "cells": [
    {
      "cell_type": "markdown",
      "source": [
        "<div class=\"alert alert-block alert-success\">\n",
        "    \n",
        "# FIT5201 Task 2\n",
        "#### Student Name: Mohammed Hasan Uddin Quraishi\n",
        "#### Student ID: 31064191\n",
        "    \n",
        "</div>"
      ],
      "metadata": {
        "id": "MkJrZKwJ3MkE"
      }
    },
    {
      "cell_type": "markdown",
      "source": [
        "<div class=\"alert alert-block alert-danger\">\n",
        "    \n",
        "## Table of Contents\n",
        "\n",
        "</div>    \n",
        "\n",
        "[2 Probability](#Probability) <br>\n",
        "$\\;$[Question 4 Bayes Rule](#bayesrule) <br>\n",
        "$\\;\\;\\;$[I Implement a Python function that simulates the experiment](#implement) <br>\n",
        "$\\;\\;\\;$[II Formal derivation](#fder) <br>\n",
        "$\\;$[Question 5 Expected Values](#q5) <br>\n",
        "$\\;\\;\\;$[I Implement a Python function die experiment](#impy) <br>\n",
        "$\\;\\;\\;$[II Estimate the expected player score](#estex) <br>\n",
        "$\\;\\;\\;$[III Analytically derive the expected value](#anader) <br>"
      ],
      "metadata": {
        "id": "Usl3VSHw3PW8"
      }
    },
    {
      "cell_type": "code",
      "execution_count": 8,
      "metadata": {
        "id": "f8z2t0p7wsPL"
      },
      "outputs": [],
      "source": [
        "import numpy as np"
      ]
    },
    {
      "cell_type": "markdown",
      "source": [
        "<div class=\"alert alert-block alert-warning\">\n",
        "\n",
        "#### 2 Probability <a class=\"anchor\" name=\"probability\"></a>\n",
        "    \n",
        "</div>"
      ],
      "metadata": {
        "id": "VrFf45NK4kvb"
      }
    },
    {
      "cell_type": "markdown",
      "source": [
        "<div class=\"alert alert-block alert-warning\">\n",
        "\n",
        "#### Question 4 Bayes Rule <a class=\"anchor\" name=\"bayesrule\"></a>\n",
        "    \n",
        "</div>"
      ],
      "metadata": {
        "id": "-Jg5CpTQymUe"
      }
    },
    {
      "cell_type": "markdown",
      "source": [
        "Suppose we have one red, one blue, and one yellow\n",
        "box with the following content:\n",
        "\n",
        "• In the red box we have 3 apples and 5 oranges,\n",
        "\n",
        "• in the blue box we have 4 apples and 4 oranges, and\n",
        "\n",
        "• in the yellow box we have 1 apples and 1 orange."
      ],
      "metadata": {
        "id": "YCkJRouX4JAB"
      }
    },
    {
      "cell_type": "markdown",
      "source": [
        "<div class=\"alert alert-block alert-warning\">\n",
        "\n",
        "#### I Implement a Python function that simulates the experiment <a class=\"anchor\" name=\"knnregressor\"></a>\n",
        "    \n",
        "</div>"
      ],
      "metadata": {
        "id": "7MqCZW0i4eHI"
      }
    },
    {
      "cell_type": "code",
      "source": [
        "def fruit_experiment(num_simulations):\n",
        "    rng = np.random.default_rng()\n",
        "    #Create different boxes and fruits list\n",
        "    boxes = ['red', 'blue', 'yellow']\n",
        "    fruits = ['apple', 'orange']\n",
        "    #Create a key value where value is the fruits available in the basket and key is the colour of the boxes\n",
        "    box_fruits = {\n",
        "        'red': ['apple'] * 3 + ['orange'] * 5,\n",
        "        'blue': ['apple'] * 4 + ['orange'] * 4,\n",
        "        'yellow': ['apple'] * 1 + ['orange'] * 1\n",
        "    }\n",
        "\n",
        "    selected_boxes = np.array(rng.choice(boxes, size=num_simulations),dtype=object)\n",
        "    selected_fruits = np.array([rng.choice(box_fruits[box]) for box in selected_boxes])\n",
        "\n",
        "    return selected_boxes, selected_fruits"
      ],
      "metadata": {
        "id": "7MFQNrNozhxh"
      },
      "execution_count": 9,
      "outputs": []
    },
    {
      "cell_type": "code",
      "source": [
        "selected_boxes, selected_fruits = fruit_experiment(4)\n",
        "print(selected_boxes)\n",
        "print(selected_fruits)"
      ],
      "metadata": {
        "colab": {
          "base_uri": "https://localhost:8080/"
        },
        "id": "uyrVXDImzmo3",
        "outputId": "72e0157f-7a54-4928-82ec-18b2af4ba4bc"
      },
      "execution_count": 10,
      "outputs": [
        {
          "output_type": "stream",
          "name": "stdout",
          "text": [
            "['yellow' 'yellow' 'yellow' 'blue']\n",
            "['orange' 'orange' 'orange' 'apple']\n"
          ]
        }
      ]
    },
    {
      "cell_type": "code",
      "source": [
        "num_simulations = 1000000\n",
        "selected_boxes, selected_fruits = fruit_experiment(num_simulations)\n",
        "apple_and_yellow = np.sum((selected_fruits == 'apple') & (selected_boxes == 'yellow'))\n",
        "total_apples = np.sum(selected_fruits == 'apple')\n",
        "probability = apple_and_yellow / total_apples\n",
        "\n",
        "print(\"Estimated probability selected fruit = 'apple' and selected box == 'yellow:\", round(probability,2))"
      ],
      "metadata": {
        "colab": {
          "base_uri": "https://localhost:8080/"
        },
        "id": "s2-_lzwDzuSN",
        "outputId": "552c0b29-fc08-44b1-8ab7-732602ced295"
      },
      "execution_count": 11,
      "outputs": [
        {
          "output_type": "stream",
          "name": "stdout",
          "text": [
            "Estimated probability selected fruit = 'apple' and selected box == 'yellow: 0.36\n"
          ]
        }
      ]
    },
    {
      "cell_type": "markdown",
      "source": [
        "<div class=\"alert alert-block alert-warning\">\n",
        "\n",
        "#### II Formal derivation <a class=\"anchor\" name=\"fder\"></a>\n",
        "    \n",
        "</div>"
      ],
      "metadata": {
        "id": "QZq9jKB057R4"
      }
    },
    {
      "cell_type": "markdown",
      "source": [
        "Using the notion we get the following:\n",
        "\n",
        "Here we will be using the formula of conditional probability obtained from Bayes theorem.\n",
        "\n",
        "Here B is the boxes with colour yellow as y, blue as b and red as r.\n",
        "\n",
        "Here F is fruits with apple as a and orange as o"
      ],
      "metadata": {
        "id": "KWCdnlZK6Htk"
      }
    },
    {
      "cell_type": "markdown",
      "source": [
        "\\begin{equation}\n",
        "p(B=y\\mid F=a) = \\frac{p(F=a\\mid B=y) \\cdot p(B=y)}{p(F=a)}\\\\\n",
        "p(B=y) = 1/3\\\\\n",
        "p(F=a) =P(B=r) P(F=a \\mid B=r)+P(B=b) P(F=a \\mid B=b)+P(B=y) P(F=a \\mid B=y) \\\\\n",
        " p(F=a) =\\left(\\frac{1}{3}\\right)\\left(\\frac{3}{8}\\right)+\\left(\\frac{1}{3}\\right)\\left(\\frac{4}{8}\\right)+\\left(\\frac{1}{3}\\right)\\left(\\frac{1}{2}\\right)\\\\\n",
        " p(F=a) =\\frac{1}{8}+\\frac{1}{6}+\\frac{1}{6}=\\frac{11}{24}\\\\\n",
        "p(F=a \\mid B=y) = 1/2\\\\\n",
        "p(B=y\\mid F=a) = \\frac{\\frac{1}{2} \\cdot \\frac{1}{3}}{\\frac{11}{24}}\\\\\n",
        "p(B=y\\mid F=a) = \\frac{4}{11}\\\\\n",
        "p(B=y\\mid F=a) = 0.36\n",
        "\\end{equation}"
      ],
      "metadata": {
        "id": "u-4l-wSe3RfD"
      }
    },
    {
      "cell_type": "markdown",
      "source": [
        "<div class=\"alert alert-block alert-warning\">\n",
        "\n",
        "#### Question 5 Expected Values <a class=\"anchor\" name=\"q5\"></a>\n",
        "    \n",
        "</div>"
      ],
      "metadata": {
        "id": "L2Xhf4DI6vkm"
      }
    },
    {
      "cell_type": "markdown",
      "source": [
        "Consider the following simple one-player\n",
        "game: the player first rolls a fair six-sided die and then she determines her score as the sum of the\n",
        "outcomes of a number of a additional die roles, where the number of additionally rolled dice is equal\n",
        "to the number rolled with the first die. Formally, we can describe this game with a set of random\n",
        "variables:\n",
        "\n",
        "• X, the outcome of the first die roll\n",
        "\n",
        "• Yi for i = 1, . . . 6, the outcome of the i-th subsequent die role if i ≤ X or 0 otherwise.\n",
        "\n",
        "• Z = Y1 + Y2 + Y3 + Y4 + Y5 + Y6, the final score of the player.\n",
        "\n",
        "We are interested in experimentally and analytically determining the score that a player can expect\n",
        "to achieve in this game on average, i.e., the expected value E[Z]."
      ],
      "metadata": {
        "id": "XXMj20kfBm81"
      }
    },
    {
      "cell_type": "markdown",
      "source": [
        "<div class=\"alert alert-block alert-warning\">\n",
        "\n",
        "#### I Implement a Python function die experiment <a class=\"anchor\" name=\"impy\"></a>\n",
        "    \n",
        "</div>"
      ],
      "metadata": {
        "id": "iPNNskM7BXpO"
      }
    },
    {
      "cell_type": "code",
      "source": [
        "def die_experiment(num_repetitions):\n",
        "  scores = []\n",
        "  for _ in range(num_repetitions):\n",
        "    first_die_roll = np.random.randint(1, 7)\n",
        "    next_dice = np.random.randint(1, 7, size=first_die_roll)\n",
        "    score = np.sum(next_dice)\n",
        "    scores.append(score)\n",
        "  return np.array(scores)\n",
        "\n",
        "player_scores = die_experiment(10)\n",
        "print(player_scores)"
      ],
      "metadata": {
        "colab": {
          "base_uri": "https://localhost:8080/"
        },
        "id": "lac7A1Mu6yup",
        "outputId": "510aee36-51f3-4783-9402-d9d62cf456ef"
      },
      "execution_count": 12,
      "outputs": [
        {
          "output_type": "stream",
          "name": "stdout",
          "text": [
            "[ 1 20 18  6 26 16 14 14 12 18]\n"
          ]
        }
      ]
    },
    {
      "cell_type": "markdown",
      "source": [
        "<div class=\"alert alert-block alert-warning\">\n",
        "\n",
        "#### II Estimate the expected player score E[Z] by performing 10,000 repetitions and provide an error margin of this estimate with 95% certainty. <a class=\"anchor\" name=\"estex\"></a>\n",
        "    \n",
        "</div>\n",
        "\n",
        "\n"
      ],
      "metadata": {
        "id": "BOi9tZDWFkYf"
      }
    },
    {
      "cell_type": "code",
      "source": [
        "num_repetitions = 10000\n",
        "player_scores = die_experiment(num_repetitions)\n",
        "print(player_scores[0:5])"
      ],
      "metadata": {
        "colab": {
          "base_uri": "https://localhost:8080/"
        },
        "id": "Fa1BagcvE8Hw",
        "outputId": "da18387a-0356-4e61-e930-cd26d47df860"
      },
      "execution_count": 13,
      "outputs": [
        {
          "output_type": "stream",
          "name": "stdout",
          "text": [
            "[ 4  9 16  6  5]\n"
          ]
        }
      ]
    },
    {
      "cell_type": "code",
      "source": [
        "mean_score = np.mean(player_scores)\n",
        "std_error = np.std(player_scores) / np.sqrt(num_repetitions)"
      ],
      "metadata": {
        "id": "Jdscgy16Gkaf"
      },
      "execution_count": 14,
      "outputs": []
    },
    {
      "cell_type": "code",
      "source": [
        "# critical value for a 95% confidence interval is 1.96\n",
        "\n",
        "margin_of_error = 1.96 * std_error"
      ],
      "metadata": {
        "id": "FANUqbN3Glns"
      },
      "execution_count": 15,
      "outputs": []
    },
    {
      "cell_type": "code",
      "source": [
        "std_error = np.std(player_scores) / np.sqrt(num_repetitions)"
      ],
      "metadata": {
        "id": "pZhupDo9Gmx2"
      },
      "execution_count": 16,
      "outputs": []
    },
    {
      "cell_type": "code",
      "source": [
        "print(\"Expected score: \", mean_score)\n",
        "print(\"Error margin: ±\", std_error)"
      ],
      "metadata": {
        "colab": {
          "base_uri": "https://localhost:8080/"
        },
        "id": "yDWFkWzmHlCY",
        "outputId": "9193e6dd-0876-4f1e-dba8-be8de47f09b9"
      },
      "execution_count": 17,
      "outputs": [
        {
          "output_type": "stream",
          "name": "stdout",
          "text": [
            "Expected score:  12.2557\n",
            "Error margin: ± 0.06792121723732578\n"
          ]
        }
      ]
    },
    {
      "cell_type": "markdown",
      "source": [
        "<div class=\"alert alert-block alert-warning\">\n",
        "\n",
        "#### III Analytically derive the expected value <a class=\"anchor\" name=\"anader\"></a>\n",
        "    \n",
        "</div>\n"
      ],
      "metadata": {
        "id": "Mu-EinwSC1Lp"
      }
    },
    {
      "cell_type": "markdown",
      "source": [
        "E[Z|X=x] is the expected value given x for X.\n",
        "\n",
        "\n",
        "Here 3.5 or 7/2 is expected value of dice for one roll\n",
        "\n",
        "Since we roll dice x times it will be x*3.5\n",
        "\n",
        "Total expected value we sum all possible values of x weighted by there probability\n",
        "\n",
        "\\begin{equation}\n",
        "E[Z|X=x] = x \\times \\frac{7}{2}\\\\\n",
        "E[Z] = \\sum_{x=1}^{6} P(X = x) \\times E[Z|X = x]\\\\\n",
        "Probability \\ of \\ getting \\ any \\ side \\ on \\ one \\ roll \\ of \\ dice \\ is \\ 1 \\ over \\ 6 \\\\\n",
        "P(X = x) = \\frac{1}{6}\\\\\n",
        "E[Z] = \\frac{7}{2} \\times \\frac{1}{6} \\times \\sum_{x=1}^{6} x\\\\\n",
        "E[Z] = \\frac{7}{2} \\times \\frac{1}{6} \\times \\frac{6 \\times 7}{2}\\\\\n",
        "E[Z] = \\frac{7}{2} \\times \\frac{7}{2}\\\\\n",
        "E[Z] = \\frac{49}{4}\\\\\n",
        "E[Z] = 12.25\n",
        "\\end{equation}\n",
        "\n",
        "So, the expected value E[Z] is 12.25."
      ],
      "metadata": {
        "id": "ggdiMZiyOJls"
      }
    },
    {
      "cell_type": "code",
      "source": [],
      "metadata": {
        "id": "5xiUxxssOhWT"
      },
      "execution_count": 17,
      "outputs": []
    },
    {
      "cell_type": "markdown",
      "source": [
        "References\n",
        "\n",
        "1. Activity 1 2 3 from tutorial\n",
        "2. data:\n",
        "https://scikit-learn.org/stable/modules/generated/sklearn.datasets.load_diabetes.html,\n",
        "https://scikit-learn.org/stable/modules/generated/sklearn.datasets.fetch_california_housing.html ,\n",
        "https://scikit-learn.org/stable/modules/generated/sklearn.datasets.load_breast_cancer.html\n",
        "\n",
        "3. Total Conditional Probability:\n",
        "https://corporatefinanceinstitute.com/resources/data-science/total-probability-rule/#:~:text=The%20Total%20Probability%20Rule%20(also,probabilities%20of%20several%20distinct%20events.\n",
        "\n",
        "4. Conditional and Bayes rule:\n",
        "https://stats.libretexts.org/Courses/Saint_Mary's_College_Notre_Dame/MATH_345__-_Probability_(Kuter)/2%3A_Computing_Probabilities/2.2%3A_Conditional_Probability_and_Bayes'_Rule\n",
        "\n",
        "5. Change to one dimension flat array: https://numpy.org/doc/stable/reference/generated/numpy.ravel.html\n",
        "\n",
        "6. knn regressor:\n",
        "https://www.analyticsvidhya.com/blog/2018/08/k-nearest-neighbor-introduction-regression-python/\n",
        "\n",
        "7. Analysis and markdown guide:\n",
        "https://chat.openai.com/\n",
        "\n",
        "8.Ridge regression help:\n",
        "https://www.springboard.com/blog/data-science/ridge-regression-python/\n",
        "\n",
        "\n"
      ],
      "metadata": {
        "id": "wq-Dw2m5lSMx"
      }
    },
    {
      "cell_type": "code",
      "source": [],
      "metadata": {
        "id": "5llbiZHnlSbb"
      },
      "execution_count": null,
      "outputs": []
    }
  ]
}